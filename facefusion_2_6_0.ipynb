{
  "nbformat": 4,
  "nbformat_minor": 0,
  "metadata": {
    "colab": {
      "provenance": []
    },
    "kernelspec": {
      "name": "python3",
      "display_name": "Python 3"
    },
    "language_info": {
      "name": "python"
    }
  },
  "cells": [
    {
      "cell_type": "code",
      "execution_count": null,
      "metadata": {
        "id": "XaqO7feu9sAw"
      },
      "outputs": [],
      "source": [
        "import codecs\n",
        "import torch\n",
        "\n",
        "# Force usage of CPU\n",
        "device = \"cpu\"\n",
        "print(\"Using CPU\")\n",
        "\n",
        "# Decode the Git URL and directory name\n",
        "giturl = codecs.decode('uggcf://tvguho.pbz/snprshfvba/snprshfvba.tvg', 'rot_13')\n",
        "gitdir = codecs.decode('snprshfvba', 'rot_13')\n",
        "\n",
        "# Clone the repository\n",
        "!git clone {giturl}\n",
        "%cd {gitdir}\n",
        "\n",
        "# Install using the CPU version of ONNX runtime\n",
        "!python install.py --onnxruntime cpu --skip-conda\n",
        "\n",
        "from IPython.display import clear_output\n",
        "clear_output()\n",
        "print(\"Installed!\")"
      ]
    },
    {
      "cell_type": "code",
      "source": [
        "%cd /content/{gitdir}\n",
        "!pip install -r requirements.txt\n",
        "!pip install onnxruntime\n",
        "!pip install colorama\n",
        "!pip install filetype"
      ],
      "metadata": {
        "id": "Bl3hFfQH8iy7"
      },
      "execution_count": null,
      "outputs": []
    },
    {
      "cell_type": "code",
      "source": [
        "import codecs\n",
        "\n",
        "# Decode the directory name\n",
        "gitdir = codecs.decode('snprshfvba', 'rot_13')\n",
        "\n",
        "# Change the current directory to the decoded directory\n",
        "%cd /content/{gitdir}\n",
        "\n",
        "# Determine the device to use\n",
        "device = \"cpu\"  # Since we're forcing the usage of the CPU\n",
        "\n",
        "# Run the script with the appropriate execution providers\n",
        "if device == \"cuda\":\n",
        "    !python run.py --execution-providers cpu cuda\n",
        "else:\n",
        "    !python run.py --execution-providers cpu\n"
      ],
      "metadata": {
        "id": "996UKUjT-BEu"
      },
      "execution_count": null,
      "outputs": []
    },
    {
      "cell_type": "code",
      "source": [
        "!npm install -g localtunnel\n",
        "import subprocess\n",
        "import threading\n",
        "import time\n",
        "import socket\n",
        "import urllib.request\n",
        "def iframe_thread(port):\n",
        "    while True:\n",
        "        time.sleep(0.5)\n",
        "        sock= socket.socket(socket.AF_INET, socket.SOCK_STREAM)\n",
        "        result = sock.connect_ex(('127.0.0.1', port))\n",
        "        if result == 0:\n",
        "            break\n",
        "        sock.close()\n",
        "\n",
        "        from colorama import Fore, Style\n",
        "    print (Fore.GREEN + \"\\nIP: \", Fore. RED, urllib.request.urlopen('https://ipv4.icanhazip.com').read().decode('utf8').strip(\"\\n\"), \"\\n\", Style. RESET_ALL)\n",
        "    p = subprocess.Popen([\"lt\", \"--port\", \"{}\".format(port)], stdout=subprocess.PIPE)\n",
        "    for line in p.stdout:\n",
        "        print(line.decode(), end='')\n",
        "threading.Thread (target=iframe_thread, daemon=True, args=(7860,)).start()\n",
        "\n",
        "\n",
        "\n",
        "\n",
        "!python run.py"
      ],
      "metadata": {
        "id": "WyELkRnM9EK1"
      },
      "execution_count": null,
      "outputs": []
    }
  ]
}